{
 "cells": [
  {
   "cell_type": "markdown",
   "metadata": {},
   "source": [
    "# Beyond this lecture\n",
    "\n",
    "This last exercise introduces other fields of machine learning beyond multivariate classification."
   ]
  },
  {
   "cell_type": "code",
   "execution_count": 11,
   "metadata": {
    "collapsed": true
   },
   "outputs": [],
   "source": [
    "%matplotlib inline\n",
    "import numpy as np\n",
    "import matplotlib.pyplot as plt\n",
    "import sys"
   ]
  },
  {
   "cell_type": "markdown",
   "metadata": {},
   "source": [
    "# Public Data\n",
    "\n",
    "Our society produces large amounts of data every day. Think about facebook posts, tweets, weather data, mobile radio tower signals, public video surveillance (some cameras provide a webinterface), stock market data,... There are many interesting projects you can create using this data.\n",
    "Here we use the tweets by @realdonaldtrump from ~2009 until January 2017."
   ]
  },
  {
   "cell_type": "code",
   "execution_count": 2,
   "metadata": {},
   "outputs": [
    {
     "name": "stdout",
     "output_type": "stream",
     "text": [
      "--2017-09-19 00:31:24--  http://ekpwww.ekp.kit.edu/~tkeck/realdonaldtrump.csv\n",
      "Auflösen des Hostnamens »ekpwww.ekp.kit.edu (ekpwww.ekp.kit.edu)« … 129.13.101.178\n",
      "Verbindungsaufbau zu ekpwww.ekp.kit.edu (ekpwww.ekp.kit.edu)|129.13.101.178|:80 … verbunden.\n",
      "HTTP-Anforderung gesendet, auf Antwort wird gewartet … 200 OK\n",
      "Länge: 5954129 (5,7M) [text/csv]\n",
      "Wird in »»realdonaldtrump.csv«« gespeichert.\n",
      "\n",
      "realdonaldtrump.csv 100%[===================>]   5,68M   446KB/s    in 13s     \n",
      "\n",
      "2017-09-19 00:31:37 (450 KB/s) - »»realdonaldtrump.csv«« gespeichert [5954129/5954129]\n",
      "\n"
     ]
    }
   ],
   "source": [
    "!wget http://ekpwww.ekp.kit.edu/~tkeck/realdonaldtrump.csv"
   ]
  },
  {
   "cell_type": "markdown",
   "metadata": {},
   "source": [
    "## Data Mining with Pandas\n",
    "\n",
    "We already encountered pandas in the previous exercises. The strength of pandas is the exploration of your data, also known as data mining. First we load our dataset. \n",
    "\n",
    "**Exercise** Look at the first few entries below and figure out the meaning of each column"
   ]
  },
  {
   "cell_type": "code",
   "execution_count": 2,
   "metadata": {},
   "outputs": [
    {
     "data": {
      "text/html": [
       "<div>\n",
       "<style>\n",
       "    .dataframe thead tr:only-child th {\n",
       "        text-align: right;\n",
       "    }\n",
       "\n",
       "    .dataframe thead th {\n",
       "        text-align: left;\n",
       "    }\n",
       "\n",
       "    .dataframe tbody tr th {\n",
       "        vertical-align: top;\n",
       "    }\n",
       "</style>\n",
       "<table border=\"1\" class=\"dataframe\">\n",
       "  <thead>\n",
       "    <tr style=\"text-align: right;\">\n",
       "      <th></th>\n",
       "      <th>favorite_count</th>\n",
       "      <th>source</th>\n",
       "      <th>text</th>\n",
       "      <th>in_reply_to_screen_name</th>\n",
       "      <th>is_retweet</th>\n",
       "      <th>created_at</th>\n",
       "      <th>retweet_count</th>\n",
       "      <th>id_str</th>\n",
       "    </tr>\n",
       "  </thead>\n",
       "  <tbody>\n",
       "    <tr>\n",
       "      <th>0</th>\n",
       "      <td>17198</td>\n",
       "      <td>Twitter for Android</td>\n",
       "      <td>\"@zhu_amy3: @realDonaldTrump It's Morning in A...</td>\n",
       "      <td>NaN</td>\n",
       "      <td>True</td>\n",
       "      <td>2017-01-12 04:24:52</td>\n",
       "      <td>3510</td>\n",
       "      <td>819399723924803585</td>\n",
       "    </tr>\n",
       "    <tr>\n",
       "      <th>1</th>\n",
       "      <td>47078</td>\n",
       "      <td>Twitter for Android</td>\n",
       "      <td>We had a great News Conference at Trump Tower ...</td>\n",
       "      <td>NaN</td>\n",
       "      <td>False</td>\n",
       "      <td>2017-01-12 04:01:38</td>\n",
       "      <td>13591</td>\n",
       "      <td>819393877174087682</td>\n",
       "    </tr>\n",
       "    <tr>\n",
       "      <th>2</th>\n",
       "      <td>51040</td>\n",
       "      <td>Twitter for Android</td>\n",
       "      <td>Intelligence agencies should never have allowe...</td>\n",
       "      <td>NaN</td>\n",
       "      <td>False</td>\n",
       "      <td>2017-01-11 12:48:52</td>\n",
       "      <td>17733</td>\n",
       "      <td>819164172781060096</td>\n",
       "    </tr>\n",
       "    <tr>\n",
       "      <th>3</th>\n",
       "      <td>51673</td>\n",
       "      <td>Twitter for Android</td>\n",
       "      <td>I win an election easily, a great \"movement\" i...</td>\n",
       "      <td>NaN</td>\n",
       "      <td>False</td>\n",
       "      <td>2017-01-11 12:44:05</td>\n",
       "      <td>15037</td>\n",
       "      <td>819162968592183298</td>\n",
       "    </tr>\n",
       "    <tr>\n",
       "      <th>4</th>\n",
       "      <td>42993</td>\n",
       "      <td>Twitter for Android</td>\n",
       "      <td>Russia has never tried to use leverage over me...</td>\n",
       "      <td>NaN</td>\n",
       "      <td>False</td>\n",
       "      <td>2017-01-11 12:31:31</td>\n",
       "      <td>14087</td>\n",
       "      <td>819159806489591809</td>\n",
       "    </tr>\n",
       "  </tbody>\n",
       "</table>\n",
       "</div>"
      ],
      "text/plain": [
       "   favorite_count               source  \\\n",
       "0           17198  Twitter for Android   \n",
       "1           47078  Twitter for Android   \n",
       "2           51040  Twitter for Android   \n",
       "3           51673  Twitter for Android   \n",
       "4           42993  Twitter for Android   \n",
       "\n",
       "                                                text in_reply_to_screen_name  \\\n",
       "0  \"@zhu_amy3: @realDonaldTrump It's Morning in A...                     NaN   \n",
       "1  We had a great News Conference at Trump Tower ...                     NaN   \n",
       "2  Intelligence agencies should never have allowe...                     NaN   \n",
       "3  I win an election easily, a great \"movement\" i...                     NaN   \n",
       "4  Russia has never tried to use leverage over me...                     NaN   \n",
       "\n",
       "   is_retweet          created_at  retweet_count              id_str  \n",
       "0        True 2017-01-12 04:24:52           3510  819399723924803585  \n",
       "1       False 2017-01-12 04:01:38          13591  819393877174087682  \n",
       "2       False 2017-01-11 12:48:52          17733  819164172781060096  \n",
       "3       False 2017-01-11 12:44:05          15037  819162968592183298  \n",
       "4       False 2017-01-11 12:31:31          14087  819159806489591809  "
      ]
     },
     "execution_count": 2,
     "metadata": {},
     "output_type": "execute_result"
    }
   ],
   "source": [
    "import pandas as pd\n",
    "df = pd.read_csv('realdonaldtrump.csv', parse_dates=[5])\n",
    "df.head()"
   ]
  },
  {
   "cell_type": "markdown",
   "metadata": {},
   "source": [
    "As a simple data mining example we look at the sleeping and working pattern of @realdonaldtrump using only the meta-data.\n",
    "You don't have to understand the code in detail. \n",
    "\n",
    "**Exercise** Interpret the plot below"
   ]
  },
  {
   "cell_type": "code",
   "execution_count": 20,
   "metadata": {},
   "outputs": [
    {
     "data": {
      "text/plain": [
       "<matplotlib.legend.Legend at 0x7fe6aef0cf98>"
      ]
     },
     "execution_count": 20,
     "metadata": {},
     "output_type": "execute_result"
    },
    {
     "data": {
      "image/png": "[encoded data removed]",
      "text/plain": [
       "<matplotlib.figure.Figure at 0x7fe6aef06470>"
      ]
     },
     "metadata": {},
     "output_type": "display_data"
    }
   ],
   "source": [
    "# Localize created_at in New York and add hour as new feature\n",
    "times = pd.DatetimeIndex(df.created_at).tz_localize('utc').tz_convert('US/Eastern')\n",
    "df['hour'] = times.hour\n",
    "df['dayofweek'] = times.dayofweek\n",
    "# Get the three most common devices in used for the tweets\n",
    "favorit_devices = df.groupby('source')['id_str'].count().sort_values().index[-3:]\n",
    "subset = df[df.source.isin(favorit_devices)]\n",
    "# Count the number of tweets for each device and hour\n",
    "count = subset.groupby(['source', 'hour'])['id_str'].count()\n",
    "pivot = count.reset_index().pivot('hour', 'source', values='id_str')\n",
    "# Plot it\n",
    "pivot.plot()\n",
    "plt.legend(loc='center left', bbox_to_anchor=(1.05, 0.5))"
   ]
  },
  {
   "cell_type": "markdown",
   "metadata": {},
   "source": [
    "## Regression\n",
    "\n",
    "Predicting a real number depending on other variables is called **regression**.\n",
    "\n",
    "You usually do this if you fit a curve to measured datapoints.\n",
    "The function form of the curve is usually given by some theory, but you can also use machine learning to fit your datapoints with a \"learned\" function. Most of the algorithms we discovered so far can also be used for regression.\n",
    "In particular you can use BDTs and artificial neural networks!\n",
    "\n",
    "In this example we act as the advisors of @realdonaldtrump. We want to predict how popular a tweet will be. \n",
    "To do so we use the \"source\", \"hour\", \"day of the week\", the length of the tweet, the binary feature \"is_retweet\", the number of @ and # in the tweet and others features. Our goal is to predict the \"favorite_count\".\n",
    "\n",
    "As a figure of merit we use the \"squared loss\". Which is the most commonly used loss function for regression tasks. You use this (if the uncertainties are equal) if you use the $\\chi^2$ method.\n",
    "Beware: \"squared loss\" is not always the best fom to optimize your objective. E.g. if you want to optimize your costs you probably want to minimize your costs in € and not €$^2$."
   ]
  },
  {
   "cell_type": "code",
   "execution_count": 136,
   "metadata": {},
   "outputs": [
    {
     "name": "stdout",
     "output_type": "stream",
     "text": [
      "Baseline Loss 429438603.384\n"
     ]
    }
   ],
   "source": [
    "import sklearn\n",
    "\n",
    "source_to_sourceid = dict((s, i) for i, s in enumerate(df['source'].unique()))\n",
    "df['sourceid'] = df['source'].map(source_to_sourceid)\n",
    "df['length'] = df.text.str.len()\n",
    "df['ref_count'] = df.text.str.count('@')\n",
    "df['hash_count'] = df.text.str.count('#')\n",
    "df['link_count'] = df.text.str.count('http')\n",
    "\n",
    "features = ['sourceid', 'dayofweek', 'length', 'ref_count', 'retweet_count', 'link_count', 'hash_count']\n",
    "target = \"favorite_count\"\n",
    "\n",
    "# We use only original tweets\n",
    "original_df = df[~df.is_retweet]\n",
    "train, test = original_df[int(len(original_df)//2):], original_df[:int(len(original_df)//2)]\n",
    "\n",
    "# Predicting the mean value on the training sample is our baseline model.\n",
    "# We will normalize all achieved losses below to this baseline\n",
    "baseline_loss = np.mean((train[target].mean() - test[target])**2)\n",
    "print(\"Baseline Loss\", baseline_loss)"
   ]
  },
  {
   "cell_type": "markdown",
   "metadata": {},
   "source": [
    "### Regression with a BDT"
   ]
  },
  {
   "cell_type": "code",
   "execution_count": 137,
   "metadata": {},
   "outputs": [
    {
     "name": "stdout",
     "output_type": "stream",
     "text": [
      "Loss 0.561339005869\n"
     ]
    }
   ],
   "source": [
    "import sklearn.ensemble\n",
    "bdt = sklearn.ensemble.GradientBoostingRegressor(n_estimators=200, max_depth=5)\n",
    "bdt.fit(train[features], train[target].values.ravel())\n",
    "p = bdt.predict(test[features])\n",
    "print(\"Loss\", np.mean((p - test[target])**2) / baseline_loss)"
   ]
  },
  {
   "cell_type": "markdown",
   "metadata": {},
   "source": [
    "### Feature Importance\n",
    "We can also look at the importance of each feature."
   ]
  },
  {
   "cell_type": "code",
   "execution_count": 138,
   "metadata": {},
   "outputs": [
    {
     "name": "stdout",
     "output_type": "stream",
     "text": [
      "Feature importances\n",
      "link_count           0.00752575730486\n",
      "hash_count           0.0106702160334\n",
      "ref_count            0.0300974442708\n",
      "sourceid             0.0413268400409\n",
      "dayofweek            0.06566558254\n",
      "length               0.143528220788\n",
      "retweet_count        0.701185939022\n"
     ]
    }
   ],
   "source": [
    "print(\"Feature importances\")\n",
    "for f, i in sorted(zip(features, bdt.feature_importances_), key=lambda x: x[1]):\n",
    "    print(f.ljust(20), i)"
   ]
  },
  {
   "cell_type": "markdown",
   "metadata": {},
   "source": [
    "### Regression with a neural network\n",
    "\n",
    "Remember that artificial neural networks are universal function approximators?\n",
    "Therefore it is no problem to do also regression with exactly the same algorithm.\n",
    "Only the output neuron activation function is different. It is usually a linear (the identity function)\n",
    "activation instead of a sigmoid shaped function."
   ]
  },
  {
   "cell_type": "code",
   "execution_count": 139,
   "metadata": {},
   "outputs": [
    {
     "name": "stdout",
     "output_type": "stream",
     "text": [
      "Loss 0.533473891833\n"
     ]
    }
   ],
   "source": [
    "import sklearn.neural_network\n",
    "ann = sklearn.neural_network.MLPRegressor()\n",
    "ann.fit(train[features], train[target].values.ravel())\n",
    "p = ann.predict(test[features])\n",
    "print(\"Loss\", np.mean((p - test[target])**2) / baseline_loss)"
   ]
  },
  {
   "cell_type": "markdown",
   "metadata": {},
   "source": [
    "## Exercise\n",
    "\n",
    "  * Do you think our model would perform well in practise? Why (not)?\n",
    "  * Try to remove the most important feature. How good are models now?"
   ]
  },
  {
   "cell_type": "markdown",
   "metadata": {},
   "source": [
    "# Character based LSTM meets Twitter\n",
    "\n",
    "The meta-data was already quite interesting. Next, we investigate what we can do with the tweets themselves.\n",
    "We use **keras**, an easy wrapper around tensorflow, to train an LSTM on the tweets.\n",
    "This is similar to the example shown in the lecture."
   ]
  },
  {
   "cell_type": "markdown",
   "metadata": {},
   "source": [
    "## Preparing the data\n",
    "\n",
    "We start by converting the tweets into numbers (because neural networks work with numbers).\n",
    "Each character is replaced by a vector of the form (0,0,0,...,1,...,0,0,0), where the position of the 1 is called the index of the character. This process is called **vectorization**, or **one-hot-encoding**.\n",
    "\n",
    "Each tweet is split into small chunks, each chunk is represented by a matrix (a series of vectors) $X_i$.\n",
    "The next character after each chunk is our target $y_i$.\n",
    "\n",
    "**Exercise** Replace the line\n",
    "> text = df[~df.is_retweet].text.str.cat(sep=\" \")\n",
    "\n",
    "with \n",
    "> text = \"Hello \"*10\n",
    "\n",
    "> ...\n",
    "\n",
    "> print(X, y)\n",
    "\n",
    "and check if you understood how the transformation of a text into a matrix works."
   ]
  },
  {
   "cell_type": "code",
   "execution_count": 6,
   "metadata": {},
   "outputs": [],
   "source": [
    "# Create a large string with all the tweets\n",
    "text = df[~df.is_retweet].text.str.cat(sep=\" \")\n",
    "# Create maps from characters to indices and vice versa\n",
    "chars = sorted(list(set(text)))\n",
    "char_indices = dict((c, i) for i, c in enumerate(chars))\n",
    "indices_char = dict((i, c) for i, c in enumerate(chars))\n",
    "\n",
    "# Split the tweets into small fragments\n",
    "maxlen = 40\n",
    "step = 3\n",
    "tweet_fragments = []\n",
    "next_character = []\n",
    "for i in range(0, len(text) - maxlen, step):\n",
    "    tweet_fragments.append(text[i: i + maxlen])\n",
    "    next_character.append(text[i + maxlen])\n",
    "    \n",
    "# Vectorize the fragments, that is replace each character with a boolean-vector\n",
    "X = np.zeros((len(tweet_fragments), maxlen, len(chars)), dtype=np.bool)\n",
    "y = np.zeros((len(tweet_fragments), len(chars)), dtype=np.bool)\n",
    "for i, tweet_fragment in enumerate(tweet_fragments):\n",
    "    for t, char in enumerate(tweet_fragment):\n",
    "        X[i, t, char_indices[char]] = 1\n",
    "    y[i, char_indices[next_character[i]]] = 1"
   ]
  },
  {
   "cell_type": "markdown",
   "metadata": {},
   "source": [
    "## Creating a model\n",
    "\n",
    "We build our model in **keras**. It contains two hidden layers\n",
    "  * an LSTM layer\n",
    "  * a fully connected layer\n",
    "\n",
    "The output layer uses a softmax function, which will estimate the probability of each character to be the next character.\n",
    "A possible output will look like this (0.1, 0.0, 0.35, ..., 0.1, 0.7, 0.0)"
   ]
  },
  {
   "cell_type": "code",
   "execution_count": 9,
   "metadata": {},
   "outputs": [],
   "source": [
    "# We restrict ourselves to the first gpu, you can also choose 1,2 and 3.\n",
    "import os\n",
    "os.environ['CUDA_VISIBLE_DEVICES'] = \"0\"\n",
    "\n",
    "# We avoid allocating the complete memory of the GPU, which is the default behaviour. \n",
    "import tensorflow as tf\n",
    "from keras.backend.tensorflow_backend import set_session\n",
    "config = tf.ConfigProto()\n",
    "config.gpu_options.allow_growth = True\n",
    "set_session(tf.Session(config=config))\n",
    "\n",
    "import keras\n",
    "model = keras.models.Sequential()\n",
    "model.add(keras.layers.LSTM(128, input_shape=(maxlen, len(chars))))\n",
    "model.add(keras.layers.Dense(len(chars)))\n",
    "model.add(keras.layers.Activation('softmax'))\n",
    "\n",
    "optimizer = keras.optimizers.RMSprop(lr=0.01)\n",
    "model.compile(loss='categorical_crossentropy', optimizer=optimizer)"
   ]
  },
  {
   "cell_type": "markdown",
   "metadata": {},
   "source": [
    "## Fitting the model\n",
    "\n",
    "Next we fit the model, using our gpu cluster.\n",
    "After each iteration (we pass once through the data) we print out a sample text.\n",
    "The number beta determines the tradeoff between exploitation (take always the character with the highest probability)\n",
    "and exploration (try out different characters to get some diversity)."
   ]
  },
  {
   "cell_type": "code",
   "execution_count": 12,
   "metadata": {},
   "outputs": [
    {
     "name": "stdout",
     "output_type": "stream",
     "text": [
      "Iteration 1\n",
      "Epoch 1/1\n",
      "3320/3320 [==============================] - 11s - loss: 3.2194    \n",
      "----- Generating with seed: \"We had a great News Conference at Trump \"\n",
      "----- beta: 5.0\n",
      "We had a great News Conference at Trump ie ae arer are aire in aa… iaa te t an te ie …e toe aan then an  an ire ara thereec i an at are tore an ie tore an an  an an an ae an iore a\n",
      "----- beta: 2.0\n",
      "We had a great News Conference at Trump a  ee aean a  ini wiant ne ar -an  are  ir te aue nin .lmi ane as erelceet Aireswiirelaorecole  outioned onererenie …y ae  ta t wale…are gur\n",
      "----- beta: 1.0\n",
      "We had a great News Conference at Trump a ar, oa nearolssc  akebantaTb…eu  e sobihfafeeorrco aprady Pto rintfmla sEredkyntioainc i wsdN:ftemeeofps ehan wr,sprbo heruhrMSSpeie us r \n",
      "Iteration 2\n",
      "Epoch 1/1\n",
      "3320/3320 [==============================] - 11s - loss: 2.9141    \n",
      "----- Generating with seed: \"We had a great News Conference at Trump \"\n",
      "----- beta: 5.0\n",
      "We had a great News Conference at Trump the the the the the the the the the an the the the the the the the the the he the the the the the the the the the the the the the the the an\n",
      "----- beta: 2.0\n",
      "We had a great News Conference at Trump f an  ond fil the le in ar the hed  he of cus an  he cic the on heng In Man Br tre tin  al on on N S or or then in Ame here the th theres al\n",
      "----- beta: 1.0\n",
      "We had a great News Conference at Trump hia,e,…c alc ve pwatgIc CPrnthe, nin  ondhg hemath n t… beeech on hun It hu,i...-tAre hiat. Me re Jomdoret toks wa of Sfr fro@ o t vt ih… ac\n",
      "Iteration 3\n",
      "Epoch 1/1\n",
      "3320/3320 [==============================] - 12s - loss: 2.7084    \n",
      "----- Generating with seed: \"We had a great News Conference at Trump \"\n",
      "----- beta: 5.0\n",
      "We had a great News Conference at Trump a… or …are he the the the the the the the the the the the the the s an the the the the the the the the the the the the the the the the …ore \n",
      "----- beta: 2.0\n",
      "We had a great News Conference at Trump in the wor ha to shalll a… allarer or the ppathing ill tollllle the the the olles iall mar… he cos in in the male illithe theat ollis in and\n",
      "----- beta: 1.0\n",
      "We had a great News Conference at Trump \"baoa'gireyrict armre Taosryy fey DeCstoithing haallld malis ln be spyMp sealaodaxlanang. Minri Iren Maratgioc\" Wffliwtit thut en.. Tangand \n",
      "Iteration 4\n",
      "Epoch 1/1\n",
      "3320/3320 [==============================] - 12s - loss: 2.5419    \n",
      "----- Generating with seed: \"We had a great News Conference at Trump \"\n",
      "----- beta: 5.0\n",
      "We had a great News Conference at Trump wis he the the wing the the sor the the the ther wask he the mere the the the the the worker on the wer the the ss and the sat and the the m\n",
      "----- beta: 2.0\n",
      "We had a great News Conference at Trump toall, anct toctops and paps ar or is as or …istous on in he or herr st wuss in gis fa… hat re and th… worke ped worker …ume fit wor wonllle\n",
      "----- beta: 1.0\n",
      "We had a great News Conference at Trump -nwnvensa, of Der yy mass ISe! Thres, Mhemedco asthe pwor I I thprre....FBItensresp at hthind. tir…y or or auppeve Mhast aEA IE#EREIEg ifen.\n",
      "Iteration 5\n",
      "Epoch 1/1\n",
      "1664/3320 [==============>...............] - ETA: 6s - loss: 2.3875"
     ]
    },
    {
     "ename": "KeyboardInterrupt",
     "evalue": "",
     "output_type": "error",
     "traceback": [
      "\u001b[0;31m---------------------------------------------------------------------------\u001b[0m",
      "\u001b[0;31mKeyboardInterrupt\u001b[0m                         Traceback (most recent call last)",
      "\u001b[0;32m<ipython-input-12-2c993d5270b3>\u001b[0m in \u001b[0;36m<module>\u001b[0;34m()\u001b[0m\n\u001b[1;32m      1\u001b[0m \u001b[0;32mfor\u001b[0m \u001b[0miteration\u001b[0m \u001b[0;32min\u001b[0m \u001b[0mrange\u001b[0m\u001b[0;34m(\u001b[0m\u001b[0;36m1\u001b[0m\u001b[0;34m,\u001b[0m \u001b[0;36m60\u001b[0m\u001b[0;34m)\u001b[0m\u001b[0;34m:\u001b[0m\u001b[0;34m\u001b[0m\u001b[0m\n\u001b[1;32m      2\u001b[0m     \u001b[0mprint\u001b[0m\u001b[0;34m(\u001b[0m\u001b[0;34m'Iteration'\u001b[0m\u001b[0;34m,\u001b[0m \u001b[0miteration\u001b[0m\u001b[0;34m)\u001b[0m\u001b[0;34m\u001b[0m\u001b[0m\n\u001b[0;32m----> 3\u001b[0;31m     \u001b[0mmodel\u001b[0m\u001b[0;34m.\u001b[0m\u001b[0mfit\u001b[0m\u001b[0;34m(\u001b[0m\u001b[0mX\u001b[0m\u001b[0;34m,\u001b[0m \u001b[0my\u001b[0m\u001b[0;34m,\u001b[0m \u001b[0mbatch_size\u001b[0m\u001b[0;34m=\u001b[0m\u001b[0;36m128\u001b[0m\u001b[0;34m,\u001b[0m \u001b[0mepochs\u001b[0m\u001b[0;34m=\u001b[0m\u001b[0;36m1\u001b[0m\u001b[0;34m)\u001b[0m\u001b[0;34m\u001b[0m\u001b[0m\n\u001b[0m\u001b[1;32m      4\u001b[0m \u001b[0;34m\u001b[0m\u001b[0m\n\u001b[1;32m      5\u001b[0m     \u001b[0msentence\u001b[0m \u001b[0;34m=\u001b[0m \u001b[0mtext\u001b[0m\u001b[0;34m[\u001b[0m\u001b[0;34m:\u001b[0m\u001b[0mmaxlen\u001b[0m\u001b[0;34m]\u001b[0m\u001b[0;34m\u001b[0m\u001b[0m\n",
      "\u001b[0;32m~/venv/lib/python3.5/site-packages/keras/models.py\u001b[0m in \u001b[0;36mfit\u001b[0;34m(self, x, y, batch_size, epochs, verbose, callbacks, validation_split, validation_data, shuffle, class_weight, sample_weight, initial_epoch, **kwargs)\u001b[0m\n\u001b[1;32m    865\u001b[0m                               \u001b[0mclass_weight\u001b[0m\u001b[0;34m=\u001b[0m\u001b[0mclass_weight\u001b[0m\u001b[0;34m,\u001b[0m\u001b[0;34m\u001b[0m\u001b[0m\n\u001b[1;32m    866\u001b[0m                               \u001b[0msample_weight\u001b[0m\u001b[0;34m=\u001b[0m\u001b[0msample_weight\u001b[0m\u001b[0;34m,\u001b[0m\u001b[0;34m\u001b[0m\u001b[0m\n\u001b[0;32m--> 867\u001b[0;31m                               initial_epoch=initial_epoch)\n\u001b[0m\u001b[1;32m    868\u001b[0m \u001b[0;34m\u001b[0m\u001b[0m\n\u001b[1;32m    869\u001b[0m     def evaluate(self, x, y, batch_size=32, verbose=1,\n",
      "\u001b[0;32m~/venv/lib/python3.5/site-packages/keras/engine/training.py\u001b[0m in \u001b[0;36mfit\u001b[0;34m(self, x, y, batch_size, epochs, verbose, callbacks, validation_split, validation_data, shuffle, class_weight, sample_weight, initial_epoch, steps_per_epoch, validation_steps, **kwargs)\u001b[0m\n\u001b[1;32m   1596\u001b[0m                               \u001b[0minitial_epoch\u001b[0m\u001b[0;34m=\u001b[0m\u001b[0minitial_epoch\u001b[0m\u001b[0;34m,\u001b[0m\u001b[0;34m\u001b[0m\u001b[0m\n\u001b[1;32m   1597\u001b[0m                               \u001b[0msteps_per_epoch\u001b[0m\u001b[0;34m=\u001b[0m\u001b[0msteps_per_epoch\u001b[0m\u001b[0;34m,\u001b[0m\u001b[0;34m\u001b[0m\u001b[0m\n\u001b[0;32m-> 1598\u001b[0;31m                               validation_steps=validation_steps)\n\u001b[0m\u001b[1;32m   1599\u001b[0m \u001b[0;34m\u001b[0m\u001b[0m\n\u001b[1;32m   1600\u001b[0m     def evaluate(self, x, y,\n",
      "\u001b[0;32m~/venv/lib/python3.5/site-packages/keras/engine/training.py\u001b[0m in \u001b[0;36m_fit_loop\u001b[0;34m(self, f, ins, out_labels, batch_size, epochs, verbose, callbacks, val_f, val_ins, shuffle, callback_metrics, initial_epoch, steps_per_epoch, validation_steps)\u001b[0m\n\u001b[1;32m   1181\u001b[0m                     \u001b[0mbatch_logs\u001b[0m\u001b[0;34m[\u001b[0m\u001b[0;34m'size'\u001b[0m\u001b[0;34m]\u001b[0m \u001b[0;34m=\u001b[0m \u001b[0mlen\u001b[0m\u001b[0;34m(\u001b[0m\u001b[0mbatch_ids\u001b[0m\u001b[0;34m)\u001b[0m\u001b[0;34m\u001b[0m\u001b[0m\n\u001b[1;32m   1182\u001b[0m                     \u001b[0mcallbacks\u001b[0m\u001b[0;34m.\u001b[0m\u001b[0mon_batch_begin\u001b[0m\u001b[0;34m(\u001b[0m\u001b[0mbatch_index\u001b[0m\u001b[0;34m,\u001b[0m \u001b[0mbatch_logs\u001b[0m\u001b[0;34m)\u001b[0m\u001b[0;34m\u001b[0m\u001b[0m\n\u001b[0;32m-> 1183\u001b[0;31m                     \u001b[0mouts\u001b[0m \u001b[0;34m=\u001b[0m \u001b[0mf\u001b[0m\u001b[0;34m(\u001b[0m\u001b[0mins_batch\u001b[0m\u001b[0;34m)\u001b[0m\u001b[0;34m\u001b[0m\u001b[0m\n\u001b[0m\u001b[1;32m   1184\u001b[0m                     \u001b[0;32mif\u001b[0m \u001b[0;32mnot\u001b[0m \u001b[0misinstance\u001b[0m\u001b[0;34m(\u001b[0m\u001b[0mouts\u001b[0m\u001b[0;34m,\u001b[0m \u001b[0mlist\u001b[0m\u001b[0;34m)\u001b[0m\u001b[0;34m:\u001b[0m\u001b[0;34m\u001b[0m\u001b[0m\n\u001b[1;32m   1185\u001b[0m                         \u001b[0mouts\u001b[0m \u001b[0;34m=\u001b[0m \u001b[0;34m[\u001b[0m\u001b[0mouts\u001b[0m\u001b[0;34m]\u001b[0m\u001b[0;34m\u001b[0m\u001b[0m\n",
      "\u001b[0;32m~/venv/lib/python3.5/site-packages/keras/backend/tensorflow_backend.py\u001b[0m in \u001b[0;36m__call__\u001b[0;34m(self, inputs)\u001b[0m\n\u001b[1;32m   2271\u001b[0m         updated = session.run(self.outputs + [self.updates_op],\n\u001b[1;32m   2272\u001b[0m                               \u001b[0mfeed_dict\u001b[0m\u001b[0;34m=\u001b[0m\u001b[0mfeed_dict\u001b[0m\u001b[0;34m,\u001b[0m\u001b[0;34m\u001b[0m\u001b[0m\n\u001b[0;32m-> 2273\u001b[0;31m                               **self.session_kwargs)\n\u001b[0m\u001b[1;32m   2274\u001b[0m         \u001b[0;32mreturn\u001b[0m \u001b[0mupdated\u001b[0m\u001b[0;34m[\u001b[0m\u001b[0;34m:\u001b[0m\u001b[0mlen\u001b[0m\u001b[0;34m(\u001b[0m\u001b[0mself\u001b[0m\u001b[0;34m.\u001b[0m\u001b[0moutputs\u001b[0m\u001b[0;34m)\u001b[0m\u001b[0;34m]\u001b[0m\u001b[0;34m\u001b[0m\u001b[0m\n\u001b[1;32m   2275\u001b[0m \u001b[0;34m\u001b[0m\u001b[0m\n",
      "\u001b[0;32m~/venv/lib/python3.5/site-packages/tensorflow/python/client/session.py\u001b[0m in \u001b[0;36mrun\u001b[0;34m(self, fetches, feed_dict, options, run_metadata)\u001b[0m\n\u001b[1;32m    893\u001b[0m     \u001b[0;32mtry\u001b[0m\u001b[0;34m:\u001b[0m\u001b[0;34m\u001b[0m\u001b[0m\n\u001b[1;32m    894\u001b[0m       result = self._run(None, fetches, feed_dict, options_ptr,\n\u001b[0;32m--> 895\u001b[0;31m                          run_metadata_ptr)\n\u001b[0m\u001b[1;32m    896\u001b[0m       \u001b[0;32mif\u001b[0m \u001b[0mrun_metadata\u001b[0m\u001b[0;34m:\u001b[0m\u001b[0;34m\u001b[0m\u001b[0m\n\u001b[1;32m    897\u001b[0m         \u001b[0mproto_data\u001b[0m \u001b[0;34m=\u001b[0m \u001b[0mtf_session\u001b[0m\u001b[0;34m.\u001b[0m\u001b[0mTF_GetBuffer\u001b[0m\u001b[0;34m(\u001b[0m\u001b[0mrun_metadata_ptr\u001b[0m\u001b[0;34m)\u001b[0m\u001b[0;34m\u001b[0m\u001b[0m\n",
      "\u001b[0;32m~/venv/lib/python3.5/site-packages/tensorflow/python/client/session.py\u001b[0m in \u001b[0;36m_run\u001b[0;34m(self, handle, fetches, feed_dict, options, run_metadata)\u001b[0m\n\u001b[1;32m   1122\u001b[0m     \u001b[0;32mif\u001b[0m \u001b[0mfinal_fetches\u001b[0m \u001b[0;32mor\u001b[0m \u001b[0mfinal_targets\u001b[0m \u001b[0;32mor\u001b[0m \u001b[0;34m(\u001b[0m\u001b[0mhandle\u001b[0m \u001b[0;32mand\u001b[0m \u001b[0mfeed_dict_tensor\u001b[0m\u001b[0;34m)\u001b[0m\u001b[0;34m:\u001b[0m\u001b[0;34m\u001b[0m\u001b[0m\n\u001b[1;32m   1123\u001b[0m       results = self._do_run(handle, final_targets, final_fetches,\n\u001b[0;32m-> 1124\u001b[0;31m                              feed_dict_tensor, options, run_metadata)\n\u001b[0m\u001b[1;32m   1125\u001b[0m     \u001b[0;32melse\u001b[0m\u001b[0;34m:\u001b[0m\u001b[0;34m\u001b[0m\u001b[0m\n\u001b[1;32m   1126\u001b[0m       \u001b[0mresults\u001b[0m \u001b[0;34m=\u001b[0m \u001b[0;34m[\u001b[0m\u001b[0;34m]\u001b[0m\u001b[0;34m\u001b[0m\u001b[0m\n",
      "\u001b[0;32m~/venv/lib/python3.5/site-packages/tensorflow/python/client/session.py\u001b[0m in \u001b[0;36m_do_run\u001b[0;34m(self, handle, target_list, fetch_list, feed_dict, options, run_metadata)\u001b[0m\n\u001b[1;32m   1319\u001b[0m     \u001b[0;32mif\u001b[0m \u001b[0mhandle\u001b[0m \u001b[0;32mis\u001b[0m \u001b[0;32mNone\u001b[0m\u001b[0;34m:\u001b[0m\u001b[0;34m\u001b[0m\u001b[0m\n\u001b[1;32m   1320\u001b[0m       return self._do_call(_run_fn, self._session, feeds, fetches, targets,\n\u001b[0;32m-> 1321\u001b[0;31m                            options, run_metadata)\n\u001b[0m\u001b[1;32m   1322\u001b[0m     \u001b[0;32melse\u001b[0m\u001b[0;34m:\u001b[0m\u001b[0;34m\u001b[0m\u001b[0m\n\u001b[1;32m   1323\u001b[0m       \u001b[0;32mreturn\u001b[0m \u001b[0mself\u001b[0m\u001b[0;34m.\u001b[0m\u001b[0m_do_call\u001b[0m\u001b[0;34m(\u001b[0m\u001b[0m_prun_fn\u001b[0m\u001b[0;34m,\u001b[0m \u001b[0mself\u001b[0m\u001b[0;34m.\u001b[0m\u001b[0m_session\u001b[0m\u001b[0;34m,\u001b[0m \u001b[0mhandle\u001b[0m\u001b[0;34m,\u001b[0m \u001b[0mfeeds\u001b[0m\u001b[0;34m,\u001b[0m \u001b[0mfetches\u001b[0m\u001b[0;34m)\u001b[0m\u001b[0;34m\u001b[0m\u001b[0m\n",
      "\u001b[0;32m~/venv/lib/python3.5/site-packages/tensorflow/python/client/session.py\u001b[0m in \u001b[0;36m_do_call\u001b[0;34m(self, fn, *args)\u001b[0m\n\u001b[1;32m   1325\u001b[0m   \u001b[0;32mdef\u001b[0m \u001b[0m_do_call\u001b[0m\u001b[0;34m(\u001b[0m\u001b[0mself\u001b[0m\u001b[0;34m,\u001b[0m \u001b[0mfn\u001b[0m\u001b[0;34m,\u001b[0m \u001b[0;34m*\u001b[0m\u001b[0margs\u001b[0m\u001b[0;34m)\u001b[0m\u001b[0;34m:\u001b[0m\u001b[0;34m\u001b[0m\u001b[0m\n\u001b[1;32m   1326\u001b[0m     \u001b[0;32mtry\u001b[0m\u001b[0;34m:\u001b[0m\u001b[0;34m\u001b[0m\u001b[0m\n\u001b[0;32m-> 1327\u001b[0;31m       \u001b[0;32mreturn\u001b[0m \u001b[0mfn\u001b[0m\u001b[0;34m(\u001b[0m\u001b[0;34m*\u001b[0m\u001b[0margs\u001b[0m\u001b[0;34m)\u001b[0m\u001b[0;34m\u001b[0m\u001b[0m\n\u001b[0m\u001b[1;32m   1328\u001b[0m     \u001b[0;32mexcept\u001b[0m \u001b[0merrors\u001b[0m\u001b[0;34m.\u001b[0m\u001b[0mOpError\u001b[0m \u001b[0;32mas\u001b[0m \u001b[0me\u001b[0m\u001b[0;34m:\u001b[0m\u001b[0;34m\u001b[0m\u001b[0m\n\u001b[1;32m   1329\u001b[0m       \u001b[0mmessage\u001b[0m \u001b[0;34m=\u001b[0m \u001b[0mcompat\u001b[0m\u001b[0;34m.\u001b[0m\u001b[0mas_text\u001b[0m\u001b[0;34m(\u001b[0m\u001b[0me\u001b[0m\u001b[0;34m.\u001b[0m\u001b[0mmessage\u001b[0m\u001b[0;34m)\u001b[0m\u001b[0;34m\u001b[0m\u001b[0m\n",
      "\u001b[0;32m~/venv/lib/python3.5/site-packages/tensorflow/python/client/session.py\u001b[0m in \u001b[0;36m_run_fn\u001b[0;34m(session, feed_dict, fetch_list, target_list, options, run_metadata)\u001b[0m\n\u001b[1;32m   1304\u001b[0m           return tf_session.TF_Run(session, options,\n\u001b[1;32m   1305\u001b[0m                                    \u001b[0mfeed_dict\u001b[0m\u001b[0;34m,\u001b[0m \u001b[0mfetch_list\u001b[0m\u001b[0;34m,\u001b[0m \u001b[0mtarget_list\u001b[0m\u001b[0;34m,\u001b[0m\u001b[0;34m\u001b[0m\u001b[0m\n\u001b[0;32m-> 1306\u001b[0;31m                                    status, run_metadata)\n\u001b[0m\u001b[1;32m   1307\u001b[0m \u001b[0;34m\u001b[0m\u001b[0m\n\u001b[1;32m   1308\u001b[0m     \u001b[0;32mdef\u001b[0m \u001b[0m_prun_fn\u001b[0m\u001b[0;34m(\u001b[0m\u001b[0msession\u001b[0m\u001b[0;34m,\u001b[0m \u001b[0mhandle\u001b[0m\u001b[0;34m,\u001b[0m \u001b[0mfeed_dict\u001b[0m\u001b[0;34m,\u001b[0m \u001b[0mfetch_list\u001b[0m\u001b[0;34m)\u001b[0m\u001b[0;34m:\u001b[0m\u001b[0;34m\u001b[0m\u001b[0m\n",
      "\u001b[0;31mKeyboardInterrupt\u001b[0m: "
     ]
    }
   ],
   "source": [
    "for iteration in range(1, 60):\n",
    "    print('Iteration', iteration)\n",
    "    model.fit(X, y, batch_size=128, epochs=1)\n",
    "\n",
    "    sentence = text[:maxlen]\n",
    "    print('----- Generating with seed: \"' + sentence + '\"')\n",
    "    for beta in [5.0, 2.0, 1.0]:\n",
    "        print('----- beta:', beta)\n",
    "        sys.stdout.write(sentence)\n",
    "\n",
    "        x = np.zeros((1, maxlen, len(chars)))\n",
    "        for t, char in enumerate(sentence):\n",
    "            x[0, t, char_indices[char]] = 1.\n",
    "\n",
    "        for i in range(140):\n",
    "            p = model.predict(x, verbose=0)[0]\n",
    "            p = p**beta / np.sum(p**beta) - 0.0001\n",
    "            # Draw a random vector (0,0,...,1,...,0) given the probabilities\n",
    "            next_index = np.argmax(np.random.multinomial(1, p, 1))\n",
    "            next_char = indices_char[next_index]\n",
    "            \n",
    "            x = np.roll(x, -1, axis=1)\n",
    "            x[0, -1] = 0.0\n",
    "            x[0, -1, next_index] = 1.0\n",
    "            sys.stdout.write(next_char)\n",
    "            sys.stdout.flush()\n",
    "        print()"
   ]
  },
  {
   "cell_type": "markdown",
   "metadata": {
    "collapsed": true
   },
   "source": [
    "# Exercise\n",
    "\n",
    "Play around with the given character based model.\n",
    "Maybe use a different dataset e.g. your PhD thesis you should be working on. Imagine, you could train a neural network which writes the thesis for you. I think this is permitted under KIT rules."
   ]
  },
  {
   "cell_type": "code",
   "execution_count": null,
   "metadata": {},
   "outputs": [],
   "source": []
  }
 ],
 "metadata": {
  "kernelspec": {
   "display_name": "Python 3",
   "language": "python",
   "name": "python3"
  },
  "language_info": {
   "codemirror_mode": {
    "name": "ipython",
    "version": 3
   },
   "file_extension": ".py",
   "mimetype": "text/x-python",
   "name": "python",
   "nbconvert_exporter": "python",
   "pygments_lexer": "ipython3",
   "version": "3.5.3"
  }
 },
 "nbformat": 4,
 "nbformat_minor": 2
}
