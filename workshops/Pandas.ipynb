{
 "cells": [
  {
   "cell_type": "markdown",
   "metadata": {
    "slideshow": {
     "slide_type": "slide"
    }
   },
   "source": [
    "<div style=\"position:relative;\">\n",
    "<img src=images/pandas_badge2.jpg style=\"width: 60px; float: left\" />\n",
    "</div>\n",
    "<div style=\"position:relative;\">\n",
    "<img src=images/pandas_badge2.jpg style=\"width: 60px; float: right\" />\n",
    "</div>\n",
    "\n",
    "# &nbsp;&nbsp;&nbsp;&nbsp;&nbsp;&nbsp;&nbsp;&nbsp;&nbsp;&nbsp;&nbsp;&nbsp; Pandas\n",
    "\n",
    "\n",
    "**pandas** provides high-performance easy-to-use data structures and data-analysis tools.\n",
    "\n",
    "\n",
    "The API is heavily influenced by the programming language **R**."
   ]
  },
  {
   "cell_type": "code",
   "execution_count": 1,
   "metadata": {
    "collapsed": true
   },
   "outputs": [],
   "source": [
    "import pandas as pd"
   ]
  },
  {
   "cell_type": "code",
   "execution_count": 2,
   "metadata": {
    "collapsed": true,
    "slideshow": {
     "slide_type": "skip"
    }
   },
   "outputs": [],
   "source": [
    "import numpy as np\n",
    "import scipy.stats\n",
    "%matplotlib inline\n",
    "import matplotlib.pyplot as plt"
   ]
  },
  {
   "cell_type": "markdown",
   "metadata": {
    "slideshow": {
     "slide_type": "subslide"
    }
   },
   "source": [
    "## Series and DataFrames\n",
    "\n",
    "The basic building blocks in **pandas** are\n",
    "  * `pd.Series` a one-dimensional labeled array capable of holding any data type\n",
    "  * `pd.DataFrame` a two-dimensional labeled array with columns of potentially different data types."
   ]
  },
  {
   "cell_type": "code",
   "execution_count": 25,
   "metadata": {
    "slideshow": {
     "slide_type": "skip"
    }
   },
   "outputs": [
    {
     "data": {
      "text/plain": [
       "0    3\n",
       "1    1\n",
       "2    4\n",
       "3    1\n",
       "4    5\n",
       "5    9\n",
       "6    2\n",
       "7    6\n",
       "Name: DigitsOfPi, dtype: int64"
      ]
     },
     "execution_count": 25,
     "metadata": {},
     "output_type": "execute_result"
    }
   ],
   "source": [
    "series = pd.Series([3, 1, 4, 1, 5, 9, 2, 6], name='DigitsOfPi')\n",
    "series"
   ]
  },
  {
   "cell_type": "code",
   "execution_count": 31,
   "metadata": {},
   "outputs": [
    {
     "data": {
      "text/html": [
       "<div>\n",
       "<table border=\"1\" class=\"dataframe\">\n",
       "  <thead>\n",
       "    <tr style=\"text-align: right;\">\n",
       "      <th></th>\n",
       "      <th>Alphabet</th>\n",
       "      <th>FibonacciNumbers</th>\n",
       "      <th>PrimeNumbers</th>\n",
       "    </tr>\n",
       "  </thead>\n",
       "  <tbody>\n",
       "    <tr>\n",
       "      <th>0</th>\n",
       "      <td>a</td>\n",
       "      <td>0</td>\n",
       "      <td>2</td>\n",
       "    </tr>\n",
       "    <tr>\n",
       "      <th>1</th>\n",
       "      <td>b</td>\n",
       "      <td>1</td>\n",
       "      <td>3</td>\n",
       "    </tr>\n",
       "    <tr>\n",
       "      <th>2</th>\n",
       "      <td>c</td>\n",
       "      <td>1</td>\n",
       "      <td>5</td>\n",
       "    </tr>\n",
       "    <tr>\n",
       "      <th>3</th>\n",
       "      <td>d</td>\n",
       "      <td>2</td>\n",
       "      <td>7</td>\n",
       "    </tr>\n",
       "    <tr>\n",
       "      <th>4</th>\n",
       "      <td>e</td>\n",
       "      <td>3</td>\n",
       "      <td>11</td>\n",
       "    </tr>\n",
       "    <tr>\n",
       "      <th>5</th>\n",
       "      <td>f</td>\n",
       "      <td>5</td>\n",
       "      <td>13</td>\n",
       "    </tr>\n",
       "    <tr>\n",
       "      <th>6</th>\n",
       "      <td>g</td>\n",
       "      <td>8</td>\n",
       "      <td>17</td>\n",
       "    </tr>\n",
       "    <tr>\n",
       "      <th>7</th>\n",
       "      <td>h</td>\n",
       "      <td>13</td>\n",
       "      <td>19</td>\n",
       "    </tr>\n",
       "  </tbody>\n",
       "</table>\n",
       "</div>"
      ],
      "text/plain": [
       "  Alphabet  FibonacciNumbers  PrimeNumbers\n",
       "0        a                 0             2\n",
       "1        b                 1             3\n",
       "2        c                 1             5\n",
       "3        d                 2             7\n",
       "4        e                 3            11\n",
       "5        f                 5            13\n",
       "6        g                 8            17\n",
       "7        h                13            19"
      ]
     },
     "execution_count": 31,
     "metadata": {},
     "output_type": "execute_result"
    }
   ],
   "source": [
    "df = pd.DataFrame({'PrimeNumbers': [2, 3, 5, 7, 11, 13, 17, 19],\n",
    "                   'FibonacciNumbers': [0, 1, 1, 2, 3, 5, 8, 13],\n",
    "                   'Alphabet': ['a', 'b', 'c', 'd', 'e', 'f', 'g', 'h']})\n",
    "df"
   ]
  },
  {
   "cell_type": "markdown",
   "metadata": {
    "slideshow": {
     "slide_type": "subslide"
    }
   },
   "source": [
    "## Data Indexing & Selection\n",
    "\n",
    "Very powerful!\n",
    "\n",
    "There are endless possibilities to index and select data.\n",
    "Even hierarchical indexes are possible.\n",
    "\n",
    "You can select along two axes:\n",
    "  * The index (usually a range of numbers, strings or timestamps)\n",
    "  * The columns (usually strings)\n",
    "  \n",
    "http://pandas.pydata.org/pandas-docs/stable/indexing.html"
   ]
  },
  {
   "cell_type": "code",
   "execution_count": 10,
   "metadata": {},
   "outputs": [
    {
     "data": {
      "text/plain": [
       "Index(['Alphabet', 'FibonacciNumbers', 'PrimeNumbers'], dtype='object')"
      ]
     },
     "execution_count": 10,
     "metadata": {},
     "output_type": "execute_result"
    }
   ],
   "source": [
    "df.columns"
   ]
  },
  {
   "cell_type": "code",
   "execution_count": 11,
   "metadata": {},
   "outputs": [
    {
     "data": {
      "text/plain": [
       "RangeIndex(start=0, stop=8, step=1)"
      ]
     },
     "execution_count": 11,
     "metadata": {},
     "output_type": "execute_result"
    }
   ],
   "source": [
    "df.index"
   ]
  },
  {
   "cell_type": "markdown",
   "metadata": {
    "slideshow": {
     "slide_type": "subslide"
    }
   },
   "source": [
    "### Examples: Selecting one column"
   ]
  },
  {
   "cell_type": "code",
   "execution_count": 13,
   "metadata": {},
   "outputs": [
    {
     "data": {
      "text/plain": [
       "0     2\n",
       "1     3\n",
       "2     5\n",
       "3     7\n",
       "4    11\n",
       "5    13\n",
       "6    17\n",
       "7    19\n",
       "Name: PrimeNumbers, dtype: int64"
      ]
     },
     "execution_count": 13,
     "metadata": {},
     "output_type": "execute_result"
    }
   ],
   "source": [
    "df['PrimeNumbers']"
   ]
  },
  {
   "cell_type": "code",
   "execution_count": 14,
   "metadata": {},
   "outputs": [
    {
     "data": {
      "text/plain": [
       "0     2\n",
       "1     3\n",
       "2     5\n",
       "3     7\n",
       "4    11\n",
       "5    13\n",
       "6    17\n",
       "7    19\n",
       "Name: PrimeNumbers, dtype: int64"
      ]
     },
     "execution_count": 14,
     "metadata": {},
     "output_type": "execute_result"
    }
   ],
   "source": [
    "df.PrimeNumbers"
   ]
  },
  {
   "cell_type": "markdown",
   "metadata": {
    "slideshow": {
     "slide_type": "subslide"
    }
   },
   "source": [
    "### Examples: Selecting multiple columns"
   ]
  },
  {
   "cell_type": "code",
   "execution_count": 15,
   "metadata": {},
   "outputs": [
    {
     "data": {
      "text/html": [
       "<div>\n",
       "<table border=\"1\" class=\"dataframe\">\n",
       "  <thead>\n",
       "    <tr style=\"text-align: right;\">\n",
       "      <th></th>\n",
       "      <th>PrimeNumbers</th>\n",
       "      <th>Alphabet</th>\n",
       "    </tr>\n",
       "  </thead>\n",
       "  <tbody>\n",
       "    <tr>\n",
       "      <th>0</th>\n",
       "      <td>2</td>\n",
       "      <td>a</td>\n",
       "    </tr>\n",
       "    <tr>\n",
       "      <th>1</th>\n",
       "      <td>3</td>\n",
       "      <td>b</td>\n",
       "    </tr>\n",
       "    <tr>\n",
       "      <th>2</th>\n",
       "      <td>5</td>\n",
       "      <td>c</td>\n",
       "    </tr>\n",
       "    <tr>\n",
       "      <th>3</th>\n",
       "      <td>7</td>\n",
       "      <td>d</td>\n",
       "    </tr>\n",
       "    <tr>\n",
       "      <th>4</th>\n",
       "      <td>11</td>\n",
       "      <td>e</td>\n",
       "    </tr>\n",
       "    <tr>\n",
       "      <th>5</th>\n",
       "      <td>13</td>\n",
       "      <td>f</td>\n",
       "    </tr>\n",
       "    <tr>\n",
       "      <th>6</th>\n",
       "      <td>17</td>\n",
       "      <td>g</td>\n",
       "    </tr>\n",
       "    <tr>\n",
       "      <th>7</th>\n",
       "      <td>19</td>\n",
       "      <td>h</td>\n",
       "    </tr>\n",
       "  </tbody>\n",
       "</table>\n",
       "</div>"
      ],
      "text/plain": [
       "   PrimeNumbers Alphabet\n",
       "0             2        a\n",
       "1             3        b\n",
       "2             5        c\n",
       "3             7        d\n",
       "4            11        e\n",
       "5            13        f\n",
       "6            17        g\n",
       "7            19        h"
      ]
     },
     "execution_count": 15,
     "metadata": {},
     "output_type": "execute_result"
    }
   ],
   "source": [
    "df[['PrimeNumbers', 'Alphabet']]"
   ]
  },
  {
   "cell_type": "markdown",
   "metadata": {
    "slideshow": {
     "slide_type": "subslide"
    }
   },
   "source": [
    "### Examples: Selecting on index"
   ]
  },
  {
   "cell_type": "code",
   "execution_count": 18,
   "metadata": {},
   "outputs": [
    {
     "data": {
      "text/plain": [
       "Alphabet            b\n",
       "FibonacciNumbers    1\n",
       "PrimeNumbers        3\n",
       "Name: 1, dtype: object"
      ]
     },
     "execution_count": 18,
     "metadata": {},
     "output_type": "execute_result"
    }
   ],
   "source": [
    "df.loc[1]"
   ]
  },
  {
   "cell_type": "code",
   "execution_count": 19,
   "metadata": {},
   "outputs": [
    {
     "data": {
      "text/html": [
       "<div>\n",
       "<table border=\"1\" class=\"dataframe\">\n",
       "  <thead>\n",
       "    <tr style=\"text-align: right;\">\n",
       "      <th></th>\n",
       "      <th>Alphabet</th>\n",
       "      <th>FibonacciNumbers</th>\n",
       "      <th>PrimeNumbers</th>\n",
       "    </tr>\n",
       "  </thead>\n",
       "  <tbody>\n",
       "    <tr>\n",
       "      <th>3</th>\n",
       "      <td>d</td>\n",
       "      <td>2</td>\n",
       "      <td>7</td>\n",
       "    </tr>\n",
       "    <tr>\n",
       "      <th>4</th>\n",
       "      <td>e</td>\n",
       "      <td>3</td>\n",
       "      <td>11</td>\n",
       "    </tr>\n",
       "    <tr>\n",
       "      <th>5</th>\n",
       "      <td>f</td>\n",
       "      <td>5</td>\n",
       "      <td>13</td>\n",
       "    </tr>\n",
       "    <tr>\n",
       "      <th>6</th>\n",
       "      <td>g</td>\n",
       "      <td>8</td>\n",
       "      <td>17</td>\n",
       "    </tr>\n",
       "  </tbody>\n",
       "</table>\n",
       "</div>"
      ],
      "text/plain": [
       "  Alphabet  FibonacciNumbers  PrimeNumbers\n",
       "3        d                 2             7\n",
       "4        e                 3            11\n",
       "5        f                 5            13\n",
       "6        g                 8            17"
      ]
     },
     "execution_count": 19,
     "metadata": {},
     "output_type": "execute_result"
    }
   ],
   "source": [
    "df.loc[3:6]"
   ]
  },
  {
   "cell_type": "markdown",
   "metadata": {
    "slideshow": {
     "slide_type": "subslide"
    }
   },
   "source": [
    "### Examples: Selecting on column and index"
   ]
  },
  {
   "cell_type": "code",
   "execution_count": 21,
   "metadata": {},
   "outputs": [
    {
     "data": {
      "text/html": [
       "<div>\n",
       "<table border=\"1\" class=\"dataframe\">\n",
       "  <thead>\n",
       "    <tr style=\"text-align: right;\">\n",
       "      <th></th>\n",
       "      <th>Alphabet</th>\n",
       "      <th>PrimeNumbers</th>\n",
       "    </tr>\n",
       "  </thead>\n",
       "  <tbody>\n",
       "    <tr>\n",
       "      <th>1</th>\n",
       "      <td>b</td>\n",
       "      <td>3</td>\n",
       "    </tr>\n",
       "    <tr>\n",
       "      <th>4</th>\n",
       "      <td>e</td>\n",
       "      <td>11</td>\n",
       "    </tr>\n",
       "    <tr>\n",
       "      <th>6</th>\n",
       "      <td>g</td>\n",
       "      <td>17</td>\n",
       "    </tr>\n",
       "  </tbody>\n",
       "</table>\n",
       "</div>"
      ],
      "text/plain": [
       "  Alphabet  PrimeNumbers\n",
       "1        b             3\n",
       "4        e            11\n",
       "6        g            17"
      ]
     },
     "execution_count": 21,
     "metadata": {},
     "output_type": "execute_result"
    }
   ],
   "source": [
    "df.loc[[1,4,6], ['Alphabet', 'PrimeNumbers']]"
   ]
  },
  {
   "cell_type": "markdown",
   "metadata": {
    "slideshow": {
     "slide_type": "subslide"
    }
   },
   "source": [
    "### Examples: Selecting using a boolean mask"
   ]
  },
  {
   "cell_type": "code",
   "execution_count": 22,
   "metadata": {},
   "outputs": [
    {
     "data": {
      "text/html": [
       "<div>\n",
       "<table border=\"1\" class=\"dataframe\">\n",
       "  <thead>\n",
       "    <tr style=\"text-align: right;\">\n",
       "      <th></th>\n",
       "      <th>Alphabet</th>\n",
       "      <th>FibonacciNumbers</th>\n",
       "      <th>PrimeNumbers</th>\n",
       "    </tr>\n",
       "  </thead>\n",
       "  <tbody>\n",
       "    <tr>\n",
       "      <th>0</th>\n",
       "      <td>a</td>\n",
       "      <td>0</td>\n",
       "      <td>2</td>\n",
       "    </tr>\n",
       "    <tr>\n",
       "      <th>1</th>\n",
       "      <td>b</td>\n",
       "      <td>1</td>\n",
       "      <td>3</td>\n",
       "    </tr>\n",
       "    <tr>\n",
       "      <th>2</th>\n",
       "      <td>c</td>\n",
       "      <td>1</td>\n",
       "      <td>5</td>\n",
       "    </tr>\n",
       "    <tr>\n",
       "      <th>3</th>\n",
       "      <td>d</td>\n",
       "      <td>2</td>\n",
       "      <td>7</td>\n",
       "    </tr>\n",
       "  </tbody>\n",
       "</table>\n",
       "</div>"
      ],
      "text/plain": [
       "  Alphabet  FibonacciNumbers  PrimeNumbers\n",
       "0        a                 0             2\n",
       "1        b                 1             3\n",
       "2        c                 1             5\n",
       "3        d                 2             7"
      ]
     },
     "execution_count": 22,
     "metadata": {},
     "output_type": "execute_result"
    }
   ],
   "source": [
    "df[df.PrimeNumbers < 10]"
   ]
  },
  {
   "cell_type": "markdown",
   "metadata": {
    "slideshow": {
     "slide_type": "subslide"
    }
   },
   "source": [
    "## Relation to numpy ndarray\n",
    "\n",
    "The Data-structures are:\n",
    "  * build on top of **NumPy** `np.ndarray`s\n",
    "  * behave in many aspects like `np.ndarray`s\n",
    "  * column-based (column-wise operations are a lot faster than row-wise)"
   ]
  },
  {
   "cell_type": "code",
   "execution_count": 23,
   "metadata": {},
   "outputs": [
    {
     "data": {
      "text/plain": [
       "array([['a', 0, 2],\n",
       "       ['b', 1, 3],\n",
       "       ['c', 1, 5],\n",
       "       ['d', 2, 7],\n",
       "       ['e', 3, 11],\n",
       "       ['f', 5, 13],\n",
       "       ['g', 8, 17],\n",
       "       ['h', 13, 19]], dtype=object)"
      ]
     },
     "execution_count": 23,
     "metadata": {},
     "output_type": "execute_result"
    }
   ],
   "source": [
    "df.values"
   ]
  },
  {
   "cell_type": "code",
   "execution_count": 24,
   "metadata": {},
   "outputs": [
    {
     "data": {
      "text/plain": [
       "0     2\n",
       "1     4\n",
       "2     6\n",
       "3     9\n",
       "4    14\n",
       "5    18\n",
       "6    25\n",
       "7    32\n",
       "dtype: int64"
      ]
     },
     "execution_count": 24,
     "metadata": {},
     "output_type": "execute_result"
    }
   ],
   "source": [
    "df.PrimeNumbers + df.FibonacciNumbers"
   ]
  },
  {
   "cell_type": "markdown",
   "metadata": {
    "slideshow": {
     "slide_type": "subslide"
    }
   },
   "source": [
    "## Data Manipulation"
   ]
  },
  {
   "cell_type": "code",
   "execution_count": 32,
   "metadata": {},
   "outputs": [
    {
     "data": {
      "text/html": [
       "<div>\n",
       "<table border=\"1\" class=\"dataframe\">\n",
       "  <thead>\n",
       "    <tr style=\"text-align: right;\">\n",
       "      <th></th>\n",
       "      <th>Alphabet</th>\n",
       "      <th>FibonacciNumbers</th>\n",
       "      <th>PrimeNumbers</th>\n",
       "      <th>DigitsOfPi</th>\n",
       "    </tr>\n",
       "  </thead>\n",
       "  <tbody>\n",
       "    <tr>\n",
       "      <th>0</th>\n",
       "      <td>a</td>\n",
       "      <td>0</td>\n",
       "      <td>2</td>\n",
       "      <td>3</td>\n",
       "    </tr>\n",
       "    <tr>\n",
       "      <th>1</th>\n",
       "      <td>b</td>\n",
       "      <td>1</td>\n",
       "      <td>3</td>\n",
       "      <td>1</td>\n",
       "    </tr>\n",
       "    <tr>\n",
       "      <th>2</th>\n",
       "      <td>c</td>\n",
       "      <td>1</td>\n",
       "      <td>5</td>\n",
       "      <td>4</td>\n",
       "    </tr>\n",
       "    <tr>\n",
       "      <th>3</th>\n",
       "      <td>d</td>\n",
       "      <td>2</td>\n",
       "      <td>7</td>\n",
       "      <td>1</td>\n",
       "    </tr>\n",
       "    <tr>\n",
       "      <th>4</th>\n",
       "      <td>e</td>\n",
       "      <td>3</td>\n",
       "      <td>11</td>\n",
       "      <td>5</td>\n",
       "    </tr>\n",
       "  </tbody>\n",
       "</table>\n",
       "</div>"
      ],
      "text/plain": [
       "  Alphabet  FibonacciNumbers  PrimeNumbers  DigitsOfPi\n",
       "0        a                 0             2           3\n",
       "1        b                 1             3           1\n",
       "2        c                 1             5           4\n",
       "3        d                 2             7           1\n",
       "4        e                 3            11           5"
      ]
     },
     "execution_count": 32,
     "metadata": {},
     "output_type": "execute_result"
    }
   ],
   "source": [
    "df['DigitsOfPi'] = series\n",
    "df.head()"
   ]
  },
  {
   "cell_type": "code",
   "execution_count": 34,
   "metadata": {},
   "outputs": [
    {
     "data": {
      "text/html": [
       "<div>\n",
       "<table border=\"1\" class=\"dataframe\">\n",
       "  <thead>\n",
       "    <tr style=\"text-align: right;\">\n",
       "      <th></th>\n",
       "      <th>Alphabet</th>\n",
       "      <th>FibonacciNumbers</th>\n",
       "      <th>PrimeNumbers</th>\n",
       "      <th>DigitsOfPi</th>\n",
       "    </tr>\n",
       "  </thead>\n",
       "  <tbody>\n",
       "    <tr>\n",
       "      <th>4</th>\n",
       "      <td>e</td>\n",
       "      <td>3</td>\n",
       "      <td>11</td>\n",
       "      <td>5</td>\n",
       "    </tr>\n",
       "    <tr>\n",
       "      <th>5</th>\n",
       "      <td>f</td>\n",
       "      <td>5</td>\n",
       "      <td>13</td>\n",
       "      <td>9</td>\n",
       "    </tr>\n",
       "    <tr>\n",
       "      <th>6</th>\n",
       "      <td>g</td>\n",
       "      <td>8</td>\n",
       "      <td>17</td>\n",
       "      <td>2</td>\n",
       "    </tr>\n",
       "    <tr>\n",
       "      <th>7</th>\n",
       "      <td>h</td>\n",
       "      <td>13</td>\n",
       "      <td>19</td>\n",
       "      <td>6</td>\n",
       "    </tr>\n",
       "    <tr>\n",
       "      <th>9</th>\n",
       "      <td>j</td>\n",
       "      <td>34</td>\n",
       "      <td>29</td>\n",
       "      <td>3</td>\n",
       "    </tr>\n",
       "  </tbody>\n",
       "</table>\n",
       "</div>"
      ],
      "text/plain": [
       "  Alphabet  FibonacciNumbers  PrimeNumbers  DigitsOfPi\n",
       "4        e                 3            11           5\n",
       "5        f                 5            13           9\n",
       "6        g                 8            17           2\n",
       "7        h                13            19           6\n",
       "9        j                34            29           3"
      ]
     },
     "execution_count": 34,
     "metadata": {},
     "output_type": "execute_result"
    }
   ],
   "source": [
    "df.loc[9] = ['j', 34, 29, 3]\n",
    "df.tail()"
   ]
  },
  {
   "cell_type": "markdown",
   "metadata": {
    "slideshow": {
     "slide_type": "subslide"
    }
   },
   "source": [
    "## Missing Data\n",
    "\n",
    "Pandas can handle missing data and will (in contrast to numpy) mostly ignore it during caluclations."
   ]
  },
  {
   "cell_type": "code",
   "execution_count": 35,
   "metadata": {},
   "outputs": [
    {
     "data": {
      "text/html": [
       "<div>\n",
       "<table border=\"1\" class=\"dataframe\">\n",
       "  <thead>\n",
       "    <tr style=\"text-align: right;\">\n",
       "      <th></th>\n",
       "      <th>Alphabet</th>\n",
       "      <th>FibonacciNumbers</th>\n",
       "      <th>PrimeNumbers</th>\n",
       "      <th>DigitsOfPi</th>\n",
       "    </tr>\n",
       "  </thead>\n",
       "  <tbody>\n",
       "    <tr>\n",
       "      <th>5</th>\n",
       "      <td>f</td>\n",
       "      <td>5.0</td>\n",
       "      <td>13.0</td>\n",
       "      <td>9.0</td>\n",
       "    </tr>\n",
       "    <tr>\n",
       "      <th>6</th>\n",
       "      <td>g</td>\n",
       "      <td>8.0</td>\n",
       "      <td>17.0</td>\n",
       "      <td>2.0</td>\n",
       "    </tr>\n",
       "    <tr>\n",
       "      <th>7</th>\n",
       "      <td>h</td>\n",
       "      <td>13.0</td>\n",
       "      <td>19.0</td>\n",
       "      <td>6.0</td>\n",
       "    </tr>\n",
       "    <tr>\n",
       "      <th>9</th>\n",
       "      <td>j</td>\n",
       "      <td>34.0</td>\n",
       "      <td>29.0</td>\n",
       "      <td>3.0</td>\n",
       "    </tr>\n",
       "    <tr>\n",
       "      <th>8</th>\n",
       "      <td>i</td>\n",
       "      <td>NaN</td>\n",
       "      <td>NaN</td>\n",
       "      <td>5.0</td>\n",
       "    </tr>\n",
       "  </tbody>\n",
       "</table>\n",
       "</div>"
      ],
      "text/plain": [
       "  Alphabet  FibonacciNumbers  PrimeNumbers  DigitsOfPi\n",
       "5        f               5.0          13.0         9.0\n",
       "6        g               8.0          17.0         2.0\n",
       "7        h              13.0          19.0         6.0\n",
       "9        j              34.0          29.0         3.0\n",
       "8        i               NaN           NaN         5.0"
      ]
     },
     "execution_count": 35,
     "metadata": {},
     "output_type": "execute_result"
    }
   ],
   "source": [
    "df.loc[8, ['Alphabet', 'DigitsOfPi']] = ['i', 5]\n",
    "df.tail()"
   ]
  },
  {
   "cell_type": "markdown",
   "metadata": {
    "slideshow": {
     "slide_type": "subslide"
    }
   },
   "source": [
    "## Descriptive statistics\n",
    "\n",
    "Pandas contains many methods to do descriptive statistics.\n",
    "\n",
    "One of the most useful methods is `pd.DataFrame.describe`."
   ]
  },
  {
   "cell_type": "code",
   "execution_count": 36,
   "metadata": {},
   "outputs": [
    {
     "data": {
      "text/html": [
       "<div>\n",
       "<table border=\"1\" class=\"dataframe\">\n",
       "  <thead>\n",
       "    <tr style=\"text-align: right;\">\n",
       "      <th></th>\n",
       "      <th>FibonacciNumbers</th>\n",
       "      <th>PrimeNumbers</th>\n",
       "      <th>DigitsOfPi</th>\n",
       "    </tr>\n",
       "  </thead>\n",
       "  <tbody>\n",
       "    <tr>\n",
       "      <th>count</th>\n",
       "      <td>9.000000</td>\n",
       "      <td>9.000000</td>\n",
       "      <td>10.000000</td>\n",
       "    </tr>\n",
       "    <tr>\n",
       "      <th>mean</th>\n",
       "      <td>7.444444</td>\n",
       "      <td>11.777778</td>\n",
       "      <td>3.900000</td>\n",
       "    </tr>\n",
       "    <tr>\n",
       "      <th>std</th>\n",
       "      <td>10.783217</td>\n",
       "      <td>8.800253</td>\n",
       "      <td>2.469818</td>\n",
       "    </tr>\n",
       "    <tr>\n",
       "      <th>min</th>\n",
       "      <td>0.000000</td>\n",
       "      <td>2.000000</td>\n",
       "      <td>1.000000</td>\n",
       "    </tr>\n",
       "    <tr>\n",
       "      <th>25%</th>\n",
       "      <td>1.000000</td>\n",
       "      <td>5.000000</td>\n",
       "      <td>2.250000</td>\n",
       "    </tr>\n",
       "    <tr>\n",
       "      <th>50%</th>\n",
       "      <td>3.000000</td>\n",
       "      <td>11.000000</td>\n",
       "      <td>3.500000</td>\n",
       "    </tr>\n",
       "    <tr>\n",
       "      <th>75%</th>\n",
       "      <td>8.000000</td>\n",
       "      <td>17.000000</td>\n",
       "      <td>5.000000</td>\n",
       "    </tr>\n",
       "    <tr>\n",
       "      <th>max</th>\n",
       "      <td>34.000000</td>\n",
       "      <td>29.000000</td>\n",
       "      <td>9.000000</td>\n",
       "    </tr>\n",
       "  </tbody>\n",
       "</table>\n",
       "</div>"
      ],
      "text/plain": [
       "       FibonacciNumbers  PrimeNumbers  DigitsOfPi\n",
       "count          9.000000      9.000000   10.000000\n",
       "mean           7.444444     11.777778    3.900000\n",
       "std           10.783217      8.800253    2.469818\n",
       "min            0.000000      2.000000    1.000000\n",
       "25%            1.000000      5.000000    2.250000\n",
       "50%            3.000000     11.000000    3.500000\n",
       "75%            8.000000     17.000000    5.000000\n",
       "max           34.000000     29.000000    9.000000"
      ]
     },
     "execution_count": 36,
     "metadata": {},
     "output_type": "execute_result"
    }
   ],
   "source": [
    "df.describe()"
   ]
  },
  {
   "cell_type": "code",
   "execution_count": 37,
   "metadata": {},
   "outputs": [
    {
     "data": {
      "text/plain": [
       "'abcdefghji'"
      ]
     },
     "execution_count": 37,
     "metadata": {},
     "output_type": "execute_result"
    }
   ],
   "source": [
    "df['Alphabet'].sum()"
   ]
  },
  {
   "cell_type": "code",
   "execution_count": 47,
   "metadata": {},
   "outputs": [
    {
     "data": {
      "text/plain": [
       "5.0    2\n",
       "3.0    2\n",
       "1.0    2\n",
       "9.0    1\n",
       "6.0    1\n",
       "4.0    1\n",
       "2.0    1\n",
       "Name: DigitsOfPi, dtype: int64"
      ]
     },
     "execution_count": 47,
     "metadata": {},
     "output_type": "execute_result"
    }
   ],
   "source": [
    "df.DigitsOfPi.value_counts()"
   ]
  },
  {
   "cell_type": "markdown",
   "metadata": {
    "slideshow": {
     "slide_type": "subslide"
    }
   },
   "source": [
    "## Visualization\n",
    "\n",
    "Pandas defines powerful plotting mechanisms based on **matplotlib**\n",
    "\n",
    "http://pandas.pydata.org/pandas-docs/stable/visualization.html"
   ]
  },
  {
   "cell_type": "code",
   "execution_count": 40,
   "metadata": {},
   "outputs": [
    {
     "data": {
      "text/plain": [
       "<matplotlib.axes._subplots.AxesSubplot at 0x7f61c8456438>"
      ]
     },
     "execution_count": 40,
     "metadata": {},
     "output_type": "execute_result"
    },
    {
     "data": {
      "image/png": "[encoded data removed]",
      "text/plain": [
       "<matplotlib.figure.Figure at 0x7f61c840b080>"
      ]
     },
     "metadata": {},
     "output_type": "display_data"
    }
   ],
   "source": [
    "df[['PrimeNumbers', 'FibonacciNumbers']].plot()"
   ]
  },
  {
   "cell_type": "code",
   "execution_count": 46,
   "metadata": {},
   "outputs": [
    {
     "data": {
      "text/plain": [
       "<matplotlib.axes._subplots.AxesSubplot at 0x7f61c808c4a8>"
      ]
     },
     "execution_count": 46,
     "metadata": {},
     "output_type": "execute_result"
    },
    {
     "data": {
      "image/png": "[encoded data removed]",
      "text/plain": [
       "<matplotlib.figure.Figure at 0x7f61c80aaf28>"
      ]
     },
     "metadata": {},
     "output_type": "display_data"
    }
   ],
   "source": [
    "df['DigitsOfPi'].hist(bins=10, range=(-0.5, 9.5))"
   ]
  },
  {
   "cell_type": "markdown",
   "metadata": {
    "slideshow": {
     "slide_type": "slide"
    }
   },
   "source": [
    "## DataMining Example: Twitter History of @realDonaldTrump\n",
    "\n",
    "Pandas is a great tool to do data mining.\n",
    "\n",
    "On this example we will learn some more advanced techniques."
   ]
  },
  {
   "cell_type": "code",
   "execution_count": 48,
   "metadata": {},
   "outputs": [
    {
     "data": {
      "text/html": [
       "<div>\n",
       "<table border=\"1\" class=\"dataframe\">\n",
       "  <thead>\n",
       "    <tr style=\"text-align: right;\">\n",
       "      <th></th>\n",
       "      <th>favorite_count</th>\n",
       "      <th>source</th>\n",
       "      <th>text</th>\n",
       "      <th>in_reply_to_screen_name</th>\n",
       "      <th>is_retweet</th>\n",
       "      <th>created_at</th>\n",
       "      <th>retweet_count</th>\n",
       "      <th>id_str</th>\n",
       "    </tr>\n",
       "  </thead>\n",
       "  <tbody>\n",
       "    <tr>\n",
       "      <th>0</th>\n",
       "      <td>17198</td>\n",
       "      <td>Twitter for Android</td>\n",
       "      <td>\"@zhu_amy3: @realDonaldTrump It's Morning in A...</td>\n",
       "      <td>NaN</td>\n",
       "      <td>True</td>\n",
       "      <td>2017-01-12 04:24:52</td>\n",
       "      <td>3510</td>\n",
       "      <td>819399723924803585</td>\n",
       "    </tr>\n",
       "    <tr>\n",
       "      <th>1</th>\n",
       "      <td>47078</td>\n",
       "      <td>Twitter for Android</td>\n",
       "      <td>We had a great News Conference at Trump Tower ...</td>\n",
       "      <td>NaN</td>\n",
       "      <td>False</td>\n",
       "      <td>2017-01-12 04:01:38</td>\n",
       "      <td>13591</td>\n",
       "      <td>819393877174087682</td>\n",
       "    </tr>\n",
       "    <tr>\n",
       "      <th>2</th>\n",
       "      <td>51040</td>\n",
       "      <td>Twitter for Android</td>\n",
       "      <td>Intelligence agencies should never have allowe...</td>\n",
       "      <td>NaN</td>\n",
       "      <td>False</td>\n",
       "      <td>2017-01-11 12:48:52</td>\n",
       "      <td>17733</td>\n",
       "      <td>819164172781060096</td>\n",
       "    </tr>\n",
       "    <tr>\n",
       "      <th>3</th>\n",
       "      <td>51673</td>\n",
       "      <td>Twitter for Android</td>\n",
       "      <td>I win an election easily, a great \"movement\" i...</td>\n",
       "      <td>NaN</td>\n",
       "      <td>False</td>\n",
       "      <td>2017-01-11 12:44:05</td>\n",
       "      <td>15037</td>\n",
       "      <td>819162968592183298</td>\n",
       "    </tr>\n",
       "    <tr>\n",
       "      <th>4</th>\n",
       "      <td>42993</td>\n",
       "      <td>Twitter for Android</td>\n",
       "      <td>Russia has never tried to use leverage over me...</td>\n",
       "      <td>NaN</td>\n",
       "      <td>False</td>\n",
       "      <td>2017-01-11 12:31:31</td>\n",
       "      <td>14087</td>\n",
       "      <td>819159806489591809</td>\n",
       "    </tr>\n",
       "  </tbody>\n",
       "</table>\n",
       "</div>"
      ],
      "text/plain": [
       "   favorite_count               source  \\\n",
       "0           17198  Twitter for Android   \n",
       "1           47078  Twitter for Android   \n",
       "2           51040  Twitter for Android   \n",
       "3           51673  Twitter for Android   \n",
       "4           42993  Twitter for Android   \n",
       "\n",
       "                                                text in_reply_to_screen_name  \\\n",
       "0  \"@zhu_amy3: @realDonaldTrump It's Morning in A...                     NaN   \n",
       "1  We had a great News Conference at Trump Tower ...                     NaN   \n",
       "2  Intelligence agencies should never have allowe...                     NaN   \n",
       "3  I win an election easily, a great \"movement\" i...                     NaN   \n",
       "4  Russia has never tried to use leverage over me...                     NaN   \n",
       "\n",
       "  is_retweet          created_at  retweet_count              id_str  \n",
       "0       True 2017-01-12 04:24:52           3510  819399723924803585  \n",
       "1      False 2017-01-12 04:01:38          13591  819393877174087682  \n",
       "2      False 2017-01-11 12:48:52          17733  819164172781060096  \n",
       "3      False 2017-01-11 12:44:05          15037  819162968592183298  \n",
       "4      False 2017-01-11 12:31:31          14087  819159806489591809  "
      ]
     },
     "execution_count": 48,
     "metadata": {},
     "output_type": "execute_result"
    }
   ],
   "source": [
    "df = pd.read_csv('realdonaldtrump.csv', parse_dates=[5])\n",
    "df.head()"
   ]
  },
  {
   "cell_type": "markdown",
   "metadata": {
    "slideshow": {
     "slide_type": "subslide"
    }
   },
   "source": [
    "## DatetimeIndex\n",
    "\n",
    "Working with Dates can be error-prone, due to the different formats and time-zones.\n",
    "\n",
    "We assume that the original time by twitter was given by the universal time UTC,\n",
    "and we localize it to US/Eastern, which is the timezone of New York."
   ]
  },
  {
   "cell_type": "code",
   "execution_count": 49,
   "metadata": {},
   "outputs": [
    {
     "data": {
      "text/plain": [
       "Index(['favorite_count', 'source', 'text', 'in_reply_to_screen_name',\n",
       "       'is_retweet', 'created_at', 'retweet_count', 'id_str', 'year', 'month',\n",
       "       'day', 'hour', 'minute', 'dayofweek', 'dayofyear', 'weekofyear'],\n",
       "      dtype='object')"
      ]
     },
     "execution_count": 49,
     "metadata": {},
     "output_type": "execute_result"
    }
   ],
   "source": [
    "times = pd.DatetimeIndex(df.created_at).tz_localize('utc').tz_convert('US/Eastern')\n",
    "df['year'] = times.year\n",
    "df['month'] = times.month\n",
    "df['day'] = times.day\n",
    "df['hour'] = times.hour\n",
    "df['minute'] = times.minute\n",
    "df['dayofweek'] = times.dayofweek\n",
    "df['dayofyear'] = times.dayofyear\n",
    "df['weekofyear'] = times.weekofyear\n",
    "\n",
    "df.columns"
   ]
  },
  {
   "cell_type": "markdown",
   "metadata": {},
   "source": [
    "### [Sleep|Tweet]ing Pattern of Donald J. Trump"
   ]
  },
  {
   "cell_type": "code",
   "execution_count": 69,
   "metadata": {
    "slideshow": {
     "slide_type": "subslide"
    }
   },
   "outputs": [
    {
     "data": {
      "text/plain": [
       "<matplotlib.axes._subplots.AxesSubplot at 0x7f61c75e7710>"
      ]
     },
     "execution_count": 69,
     "metadata": {},
     "output_type": "execute_result"
    },
    {
     "data": {
      "image/png": "[encoded data removed]",
      "text/plain": [
       "<matplotlib.figure.Figure at 0x7f61c75726a0>"
      ]
     },
     "metadata": {},
     "output_type": "display_data"
    }
   ],
   "source": [
    "df['hour'].value_counts().sort_index().plot(marker='o', ls='dotted', xticks=np.arange(24))"
   ]
  },
  {
   "cell_type": "markdown",
   "metadata": {
    "slideshow": {
     "slide_type": "subslide"
    }
   },
   "source": [
    "## Group-By\n",
    "\n",
    "One of the most powerful techniques is the Group-By mechanism of **pandas**\n",
    "  * **Splitting** the data into groups based on some criteria\n",
    "  * **Applying** a function to each group independently\n",
    "  * **Combining** the results into a data structure\n",
    "  \n",
    "This works similar to the GROUP BY statement of SQL databases.\n",
    "\n",
    "It is also possible to do SQL like JOINS."
   ]
  },
  {
   "cell_type": "code",
   "execution_count": 111,
   "metadata": {},
   "outputs": [
    {
     "data": {
      "text/plain": [
       "source\n",
       "Media Studio                    1\n",
       "Twitter for Websites            1\n",
       "Twitter Mirror for iPad         1\n",
       "Neatly For BlackBerry 10        5\n",
       "Periscope                       7\n",
       "Vine - Make a Scene            10\n",
       "Twitter QandA                  10\n",
       "Twitter for iPad               22\n",
       "Twitlonger                     23\n",
       "Mobile Web (M5)                56\n",
       "Twitter Ads                    64\n",
       "Twitter for BlackBerry         97\n",
       "Facebook                      105\n",
       "Instagram                     133\n",
       "TwitLonger Beta               405\n",
       "TweetDeck                     483\n",
       "Twitter for iPhone           2399\n",
       "Twitter Web Client          12128\n",
       "Twitter for Android         14331\n",
       "Name: id_str, dtype: int64"
      ]
     },
     "execution_count": 111,
     "metadata": {},
     "output_type": "execute_result"
    }
   ],
   "source": [
    "df.groupby('source')['id_str'].count().sort_values()"
   ]
  },
  {
   "cell_type": "code",
   "execution_count": 61,
   "metadata": {
    "collapsed": true
   },
   "outputs": [],
   "source": [
    "favorit_devices = _.index[-3:]"
   ]
  },
  {
   "cell_type": "markdown",
   "metadata": {
    "slideshow": {
     "slide_type": "subslide"
    }
   },
   "source": [
    "### A more advanced group by example\n",
    "  * Selecting a subset of interest\n",
    "  * Groupby on multiple columns\n",
    "  * Aggregating by counting the number of entries/tweets\n",
    "  * Creating a pivot table\n",
    "  * Viszualization"
   ]
  },
  {
   "cell_type": "markdown",
   "metadata": {
    "slideshow": {
     "slide_type": "subslide"
    }
   },
   "source": [
    "#### Select"
   ]
  },
  {
   "cell_type": "code",
   "execution_count": 113,
   "metadata": {},
   "outputs": [
    {
     "data": {
      "text/plain": [
       "array(['Twitter for Android', 'Twitter for iPhone', 'Twitter Web Client'], dtype=object)"
      ]
     },
     "execution_count": 113,
     "metadata": {},
     "output_type": "execute_result"
    }
   ],
   "source": [
    "subset = df[df.source.isin(favorit_devices)]\n",
    "subset.source.unique()"
   ]
  },
  {
   "cell_type": "markdown",
   "metadata": {
    "slideshow": {
     "slide_type": "subslide"
    }
   },
   "source": [
    "#### Groupby and Aggregate"
   ]
  },
  {
   "cell_type": "code",
   "execution_count": 117,
   "metadata": {},
   "outputs": [
    {
     "data": {
      "text/plain": [
       "source              hour\n",
       "Twitter Web Client  0       3\n",
       "                    1       2\n",
       "                    3       1\n",
       "                    4       4\n",
       "                    6       1\n",
       "Name: id_str, dtype: int64"
      ]
     },
     "execution_count": 117,
     "metadata": {},
     "output_type": "execute_result"
    }
   ],
   "source": [
    "count = subset.groupby(['source', 'hour'])['id_str'].count()\n",
    "count.head()"
   ]
  },
  {
   "cell_type": "markdown",
   "metadata": {
    "slideshow": {
     "slide_type": "subslide"
    }
   },
   "source": [
    "#### Pivot"
   ]
  },
  {
   "cell_type": "code",
   "execution_count": 120,
   "metadata": {},
   "outputs": [
    {
     "data": {
      "text/html": [
       "<div>\n",
       "<table border=\"1\" class=\"dataframe\">\n",
       "  <thead>\n",
       "    <tr style=\"text-align: right;\">\n",
       "      <th>source</th>\n",
       "      <th>Twitter Web Client</th>\n",
       "      <th>Twitter for Android</th>\n",
       "      <th>Twitter for iPhone</th>\n",
       "    </tr>\n",
       "    <tr>\n",
       "      <th>hour</th>\n",
       "      <th></th>\n",
       "      <th></th>\n",
       "      <th></th>\n",
       "    </tr>\n",
       "  </thead>\n",
       "  <tbody>\n",
       "    <tr>\n",
       "      <th>0</th>\n",
       "      <td>3.0</td>\n",
       "      <td>641.0</td>\n",
       "      <td>71.0</td>\n",
       "    </tr>\n",
       "    <tr>\n",
       "      <th>1</th>\n",
       "      <td>2.0</td>\n",
       "      <td>327.0</td>\n",
       "      <td>43.0</td>\n",
       "    </tr>\n",
       "    <tr>\n",
       "      <th>2</th>\n",
       "      <td>NaN</td>\n",
       "      <td>314.0</td>\n",
       "      <td>3.0</td>\n",
       "    </tr>\n",
       "    <tr>\n",
       "      <th>3</th>\n",
       "      <td>1.0</td>\n",
       "      <td>301.0</td>\n",
       "      <td>2.0</td>\n",
       "    </tr>\n",
       "    <tr>\n",
       "      <th>4</th>\n",
       "      <td>4.0</td>\n",
       "      <td>409.0</td>\n",
       "      <td>1.0</td>\n",
       "    </tr>\n",
       "  </tbody>\n",
       "</table>\n",
       "</div>"
      ],
      "text/plain": [
       "source  Twitter Web Client  Twitter for Android  Twitter for iPhone\n",
       "hour                                                               \n",
       "0                      3.0                641.0                71.0\n",
       "1                      2.0                327.0                43.0\n",
       "2                      NaN                314.0                 3.0\n",
       "3                      1.0                301.0                 2.0\n",
       "4                      4.0                409.0                 1.0"
      ]
     },
     "execution_count": 120,
     "metadata": {},
     "output_type": "execute_result"
    }
   ],
   "source": [
    "pivot = count.reset_index().pivot('hour', 'source', values='id_str')\n",
    "pivot.head()"
   ]
  },
  {
   "cell_type": "markdown",
   "metadata": {
    "slideshow": {
     "slide_type": "subslide"
    }
   },
   "source": [
    "#### Visualization"
   ]
  },
  {
   "cell_type": "code",
   "execution_count": 121,
   "metadata": {
    "slideshow": {
     "slide_type": "-"
    }
   },
   "outputs": [
    {
     "data": {
      "text/plain": [
       "<matplotlib.legend.Legend at 0x7f61c6f9e3c8>"
      ]
     },
     "execution_count": 121,
     "metadata": {},
     "output_type": "execute_result"
    },
    {
     "data": {
      "image/png": "[encoded data removed]",
      "text/plain": [
       "<matplotlib.figure.Figure at 0x7f61c6e867b8>"
      ]
     },
     "metadata": {},
     "output_type": "display_data"
    }
   ],
   "source": [
    "pivot.plot()\n",
    "plt.legend(loc='center left', bbox_to_anchor=(1.05, 0.5))"
   ]
  },
  {
   "cell_type": "markdown",
   "metadata": {
    "slideshow": {
     "slide_type": "subslide"
    }
   },
   "source": [
    "## Text Mining\n",
    "\n",
    "We do some text mining and look for Trump's favorit words"
   ]
  },
  {
   "cell_type": "code",
   "execution_count": 108,
   "metadata": {},
   "outputs": [
    {
     "data": {
      "text/plain": [
       "Twitter for Android    162\n",
       "Twitter Web Client     144\n",
       "Twitter for iPhone       5\n",
       "Name: source, dtype: int64"
      ]
     },
     "execution_count": 108,
     "metadata": {},
     "output_type": "execute_result"
    }
   ],
   "source": [
    "favorit_words = ['stupid', '[L|l]oser', '[M|m]oron']\n",
    "subset[subset.text.str.contains('|'.join(favorit_words))].source.value_counts()"
   ]
  },
  {
   "cell_type": "code",
   "execution_count": 109,
   "metadata": {},
   "outputs": [
    {
     "data": {
      "text/plain": [
       "<matplotlib.text.Text at 0x7f61c70cb198>"
      ]
     },
     "execution_count": 109,
     "metadata": {},
     "output_type": "execute_result"
    },
    {
     "data": {
      "image/png": "[encoded data removed]",
      "text/plain": [
       "<matplotlib.figure.Figure at 0x7f61c6e8a358>"
      ]
     },
     "metadata": {},
     "output_type": "display_data"
    }
   ],
   "source": [
    "(_ / subset.source.value_counts() * 100).plot.bar()\n",
    "plt.ylabel('Probability of bad language in percent')"
   ]
  },
  {
   "cell_type": "markdown",
   "metadata": {
    "slideshow": {
     "slide_type": "subslide"
    }
   },
   "source": [
    "### Average tweet length per device"
   ]
  },
  {
   "cell_type": "code",
   "execution_count": 122,
   "metadata": {},
   "outputs": [
    {
     "data": {
      "text/plain": [
       "<matplotlib.axes._subplots.AxesSubplot at 0x7f61c6d4f048>"
      ]
     },
     "execution_count": 122,
     "metadata": {},
     "output_type": "execute_result"
    },
    {
     "data": {
      "image/png": "[encoded data removed]",
      "text/plain": [
       "<matplotlib.figure.Figure at 0x7f61c6ea0f60>"
      ]
     },
     "metadata": {},
     "output_type": "display_data"
    }
   ],
   "source": [
    "df['tweet_length'] = df.text.str.len()\n",
    "subset = df[~df.is_retweet & df.source.isin(favorit_devices)]\n",
    "tweet_length = subset.groupby('hour')['tweet_length'].agg([np.mean, np.std, len])\n",
    "tweet_length['mean_error'] = tweet_length['std'] / np.sqrt(tweet_length['len'])\n",
    "tweet_length.plot(y='mean', yerr='mean_error', marker='o', ls='dotted')"
   ]
  },
  {
   "cell_type": "markdown",
   "metadata": {
    "slideshow": {
     "slide_type": "slide"
    }
   },
   "source": [
    "## Exercise \n",
    "\n",
    "#### Task 1:\n",
    "\n",
    "What is the maximum number of (original) tweets Donald managed to perform in one hour?\n",
    "What was the content of these messages?\n",
    "\n",
    "\n",
    "#### Task 2:\n",
    "\n",
    "Investigate the ratio between *retweets* and *original content* in relation to the used devices.\n",
    "Which device does Donald use to *retweet*, which one to write down *original content / ideas*.\n",
    "\n",
    "\n",
    "#### Task 3:\n",
    "\n",
    "Find evidence for the hypothesis that the messages from \"Twitter for iPhone\" are NOT coming from Donald J. Trump.\n"
   ]
  }
 ],
 "metadata": {
  "celltoolbar": "Slideshow",
  "kernelspec": {
   "display_name": "Python 3",
   "language": "python",
   "name": "python3"
  },
  "language_info": {
   "codemirror_mode": {
    "name": "ipython",
    "version": 3
   },
   "file_extension": ".py",
   "mimetype": "text/x-python",
   "name": "python",
   "nbconvert_exporter": "python",
   "pygments_lexer": "ipython3",
   "version": "3.5.3"
  }
 },
 "nbformat": 4,
 "nbformat_minor": 2
}
